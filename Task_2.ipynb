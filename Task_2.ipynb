{
 "cells": [
  {
   "cell_type": "code",
   "execution_count": 115,
   "id": "d9524d85-79a7-4f40-8ae4-87bcacedc2a0",
   "metadata": {},
   "outputs": [],
   "source": [
    "import numpy as np\n",
    "import pandas as pd\n",
    "from sklearn.compose import ColumnTransformer\n",
    "from sklearn.impute import SimpleImputer\n",
    "from sklearn.preprocessing import StandardScaler, MinMaxScaler, OneHotEncoder\n",
    "from sklearn.decomposition import PCA\n",
    "from sklearn.pipeline import Pipeline\n",
    "from sklearn.ensemble import RandomForestClassifier"
   ]
  },
  {
   "cell_type": "code",
   "execution_count": 169,
   "id": "e2b8d40a-c7d2-47da-9671-fc11d332f999",
   "metadata": {},
   "outputs": [
    {
     "name": "stdout",
     "output_type": "stream",
     "text": [
      "    age   salary           city  gender\n",
      "0  25.0  50000.0       New York    Male\n",
      "1   NaN  60000.0    Los Angeles  Female\n",
      "2  30.0  70000.0       New York    Male\n",
      "3  35.0      NaN  San Francisco  Female\n",
      "4   NaN  80000.0    Los Angeles    Male\n"
     ]
    }
   ],
   "source": [
    "data = pd.DataFrame({\n",
    "     'age': [25, np.nan, 30, 35, np.nan],\n",
    "     'salary': [50000, 60000, 70000, np.nan, 80000],\n",
    "     'city': ['New York', 'Los Angeles', 'New York', 'San Francisco', 'Los Angeles'],\n",
    "     'gender': ['Male', 'Female', 'Male', 'Female', 'Male']})\n",
    "print(data)\n"
   ]
  },
  {
   "cell_type": "code",
   "execution_count": 195,
   "id": "a138b5d1-7319-4aaa-bcaf-37c28765b7f4",
   "metadata": {},
   "outputs": [
    {
     "data": {
      "text/plain": [
       "age       2\n",
       "salary    1\n",
       "city      0\n",
       "gender    0\n",
       "dtype: int64"
      ]
     },
     "execution_count": 195,
     "metadata": {},
     "output_type": "execute_result"
    }
   ],
   "source": [
    "data.isnull().sum()"
   ]
  },
  {
   "cell_type": "code",
   "execution_count": 197,
   "id": "ee9348af-1511-46d6-95b4-11024ad749fd",
   "metadata": {},
   "outputs": [
    {
     "data": {
      "text/plain": [
       "3"
      ]
     },
     "execution_count": 197,
     "metadata": {},
     "output_type": "execute_result"
    }
   ],
   "source": [
    "data.isnull().sum().sum()"
   ]
  },
  {
   "cell_type": "code",
   "execution_count": 199,
   "id": "c13ff4a9-d758-491d-bc1b-2eec7e757015",
   "metadata": {},
   "outputs": [
    {
     "data": {
      "text/plain": [
       "age       float64\n",
       "salary    float64\n",
       "city       object\n",
       "gender     object\n",
       "dtype: object"
      ]
     },
     "execution_count": 199,
     "metadata": {},
     "output_type": "execute_result"
    }
   ],
   "source": [
    "data.dtypes"
   ]
  },
  {
   "cell_type": "code",
   "execution_count": 201,
   "id": "c19e1a13-24d3-43b6-ac89-e1ed3903fcbd",
   "metadata": {},
   "outputs": [
    {
     "data": {
      "text/plain": [
       "(5, 4)"
      ]
     },
     "execution_count": 201,
     "metadata": {},
     "output_type": "execute_result"
    }
   ],
   "source": [
    "data.shape"
   ]
  },
  {
   "cell_type": "code",
   "execution_count": 203,
   "id": "4c880037-086d-43ff-b95d-f3b16642c1ec",
   "metadata": {},
   "outputs": [
    {
     "data": {
      "text/html": [
       "<div>\n",
       "<style scoped>\n",
       "    .dataframe tbody tr th:only-of-type {\n",
       "        vertical-align: middle;\n",
       "    }\n",
       "\n",
       "    .dataframe tbody tr th {\n",
       "        vertical-align: top;\n",
       "    }\n",
       "\n",
       "    .dataframe thead th {\n",
       "        text-align: right;\n",
       "    }\n",
       "</style>\n",
       "<table border=\"1\" class=\"dataframe\">\n",
       "  <thead>\n",
       "    <tr style=\"text-align: right;\">\n",
       "      <th></th>\n",
       "      <th>age</th>\n",
       "      <th>salary</th>\n",
       "    </tr>\n",
       "  </thead>\n",
       "  <tbody>\n",
       "    <tr>\n",
       "      <th>count</th>\n",
       "      <td>3.0</td>\n",
       "      <td>4.000000</td>\n",
       "    </tr>\n",
       "    <tr>\n",
       "      <th>mean</th>\n",
       "      <td>30.0</td>\n",
       "      <td>65000.000000</td>\n",
       "    </tr>\n",
       "    <tr>\n",
       "      <th>std</th>\n",
       "      <td>5.0</td>\n",
       "      <td>12909.944487</td>\n",
       "    </tr>\n",
       "    <tr>\n",
       "      <th>min</th>\n",
       "      <td>25.0</td>\n",
       "      <td>50000.000000</td>\n",
       "    </tr>\n",
       "    <tr>\n",
       "      <th>25%</th>\n",
       "      <td>27.5</td>\n",
       "      <td>57500.000000</td>\n",
       "    </tr>\n",
       "    <tr>\n",
       "      <th>50%</th>\n",
       "      <td>30.0</td>\n",
       "      <td>65000.000000</td>\n",
       "    </tr>\n",
       "    <tr>\n",
       "      <th>75%</th>\n",
       "      <td>32.5</td>\n",
       "      <td>72500.000000</td>\n",
       "    </tr>\n",
       "    <tr>\n",
       "      <th>max</th>\n",
       "      <td>35.0</td>\n",
       "      <td>80000.000000</td>\n",
       "    </tr>\n",
       "  </tbody>\n",
       "</table>\n",
       "</div>"
      ],
      "text/plain": [
       "        age        salary\n",
       "count   3.0      4.000000\n",
       "mean   30.0  65000.000000\n",
       "std     5.0  12909.944487\n",
       "min    25.0  50000.000000\n",
       "25%    27.5  57500.000000\n",
       "50%    30.0  65000.000000\n",
       "75%    32.5  72500.000000\n",
       "max    35.0  80000.000000"
      ]
     },
     "execution_count": 203,
     "metadata": {},
     "output_type": "execute_result"
    }
   ],
   "source": [
    "data.describe()"
   ]
  },
  {
   "cell_type": "code",
   "execution_count": 211,
   "id": "b764f0bc-cf8e-4a84-bfae-bc7d75c5c5c9",
   "metadata": {},
   "outputs": [
    {
     "name": "stdout",
     "output_type": "stream",
     "text": [
      "Show The Data:\n",
      "    age   salary           city  gender\n",
      "0  25.0  50000.0       New York    Male\n",
      "1   NaN  60000.0    Los Angeles  Female\n",
      "2  30.0  70000.0       New York    Male\n",
      "3  35.0      NaN  San Francisco  Female\n",
      "4   NaN  80000.0    Los Angeles    Male\n"
     ]
    }
   ],
   "source": [
    "print(\"Show The Data:\")\n",
    "print(data.head())"
   ]
  },
  {
   "cell_type": "code",
   "execution_count": 209,
   "id": "c67359c3-7f72-4213-b7c7-c2ff0ad17e2e",
   "metadata": {},
   "outputs": [],
   "source": [
    "numerical_features = ['age', 'salary']\n",
    "categorical_features = ['city', 'gender']"
   ]
  },
  {
   "cell_type": "code",
   "execution_count": 173,
   "id": "6fd631b7-f667-427a-9ae7-af313c9e5bc4",
   "metadata": {},
   "outputs": [],
   "source": [
    "numerical_pipeline = Pipeline([\n",
    "    ('imputer', SimpleImputer(strategy='mean')),\n",
    "    ('scaler', StandardScaler())])"
   ]
  },
  {
   "cell_type": "code",
   "execution_count": 175,
   "id": "f0b633c8-7c42-40a8-a14c-e62bb36872ad",
   "metadata": {},
   "outputs": [],
   "source": [
    "categorical_pipeline = Pipeline([\n",
    "    ('imputer', SimpleImputer(strategy='most_frequent')),\n",
    "    ('encoder', OneHotEncoder(handle_unknown='ignore'))])"
   ]
  },
  {
   "cell_type": "code",
   "execution_count": 177,
   "id": "c8214088-4e35-4dea-b10c-25af287b49c3",
   "metadata": {},
   "outputs": [],
   "source": [
    "preprocessor = ColumnTransformer(\n",
    "    transformers=[('num', numerical_pipeline, numerical_features),\n",
    "                  ('cat', categorical_pipeline, categorical_features)])"
   ]
  },
  {
   "cell_type": "code",
   "execution_count": 179,
   "id": "336a0c7a-79fd-4ad4-b364-8fb6bbe20250",
   "metadata": {},
   "outputs": [
    {
     "name": "stdout",
     "output_type": "stream",
     "text": [
      "Processed Data:\n",
      " [[-1.58113883 -1.5         0.          1.          0.          0.\n",
      "   1.        ]\n",
      " [ 0.         -0.5         1.          0.          0.          1.\n",
      "   0.        ]\n",
      " [ 0.          0.5         0.          1.          0.          0.\n",
      "   1.        ]\n",
      " [ 1.58113883  0.          0.          0.          1.          1.\n",
      "   0.        ]\n",
      " [ 0.          1.5         1.          0.          0.          0.\n",
      "   1.        ]]\n"
     ]
    }
   ],
   "source": [
    "processed_data = preprocessor.fit_transform(data)\n",
    "print(\"Processed Data:\\n\", processed_data)"
   ]
  },
  {
   "cell_type": "code",
   "execution_count": 181,
   "id": "dcad4850-115c-4759-95af-1476b11e162c",
   "metadata": {},
   "outputs": [
    {
     "name": "stdout",
     "output_type": "stream",
     "text": [
      "Reduced Data:\n",
      " [[ 2.33414772 -0.36986247]\n",
      " [-0.11631348 -0.70805625]\n",
      " [ 0.14801908  0.69740118]\n",
      " [-1.60103067 -1.15851186]\n",
      " [-0.76482265  1.5390294 ]]\n"
     ]
    }
   ],
   "source": [
    "pca = PCA(n_components=2)\n",
    "reduced_data = pca.fit_transform(processed_data)\n",
    "print(\"Reduced Data:\\n\", reduced_data)"
   ]
  },
  {
   "cell_type": "code",
   "execution_count": 183,
   "id": "b4600a01-a9ce-415c-b18d-8486b72d2490",
   "metadata": {},
   "outputs": [
    {
     "name": "stdout",
     "output_type": "stream",
     "text": [
      "Reduced Data:\n",
      " [[ 2.33414772 -0.36986247]\n",
      " [-0.11631348 -0.70805625]\n",
      " [ 0.14801908  0.69740118]\n",
      " [-1.60103067 -1.15851186]\n",
      " [-0.76482265  1.5390294 ]]\n"
     ]
    }
   ],
   "source": [
    "pca = PCA(n_components=2)\n",
    "reduced_data = pca.fit_transform(processed_data)\n",
    "print(\"Reduced Data:\\n\", reduced_data)"
   ]
  },
  {
   "cell_type": "code",
   "execution_count": 185,
   "id": "8f3ee8f6-7eb4-4514-aa71-bf3c9b1f2328",
   "metadata": {},
   "outputs": [],
   "source": [
    "pipeline = Pipeline([\n",
    "    ('preprocessor', preprocessor),\n",
    "    ('pca', PCA(n_components=2)),\n",
    "    ('classifier', RandomForestClassifier())\n",
    "])"
   ]
  },
  {
   "cell_type": "code",
   "execution_count": 187,
   "id": "15c1ea19-9641-4506-affa-43a228b0bf92",
   "metadata": {},
   "outputs": [],
   "source": [
    "target = np.array([0, 1, 0, 1, 0])"
   ]
  },
  {
   "cell_type": "code",
   "execution_count": 189,
   "id": "30d78654-e0d7-4378-a693-672a96863c32",
   "metadata": {},
   "outputs": [
    {
     "name": "stdout",
     "output_type": "stream",
     "text": [
      "Pipeline trained.\n"
     ]
    }
   ],
   "source": [
    "pipeline.fit(data, target)\n",
    "print(\"Pipeline trained.\")"
   ]
  }
 ],
 "metadata": {
  "kernelspec": {
   "display_name": "Python 3 (ipykernel)",
   "language": "python",
   "name": "python3"
  },
  "language_info": {
   "codemirror_mode": {
    "name": "ipython",
    "version": 3
   },
   "file_extension": ".py",
   "mimetype": "text/x-python",
   "name": "python",
   "nbconvert_exporter": "python",
   "pygments_lexer": "ipython3",
   "version": "3.12.4"
  }
 },
 "nbformat": 4,
 "nbformat_minor": 5
}
